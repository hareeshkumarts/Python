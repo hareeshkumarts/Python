{
 "cells": [
  {
   "cell_type": "markdown",
   "metadata": {
    "id": "Ubg_kVca-KLr"
   },
   "source": [
    "<table align=\"center\" width=100%>\n",
    "    <tr>\n",
    "        <td width=\"15%\">\n",
    "            <img src=\"homework.png\">\n",
    "        </td>\n",
    "        <td>\n",
    "            <div align=\"center\">\n",
    "                <font color=\"#21618C\" size=8px>\n",
    "                    <b> Take-Home <br>(Week 2)\n",
    "                    </b>\n",
    "                </font>\n",
    "            </div>\n",
    "        </td>\n",
    "    </tr>\n",
    "</table>"
   ]
  },
  {
   "cell_type": "markdown",
   "metadata": {
    "id": "xhfjP02y-KLt"
   },
   "source": [
    "### Let's begin with some hands-on practice exercises"
   ]
  },
  {
   "cell_type": "markdown",
   "metadata": {
    "id": "QIQhNoQS-KLu"
   },
   "source": [
    "<table align=\"left\">\n",
    "    <tr>\n",
    "        <td width=\"6%\">\n",
    "            <img src=\"question_icon.png\">\n",
    "        </td>\n",
    "        <td>\n",
    "            <div align=\"left\", style=\"font-size:120%\">\n",
    "                <font color=\"#21618C\">\n",
    "                    <b>1. A text is given below. Write a program to find the character which is at the index position obtained by adding the indices of the character 'o' of the word 'Hello' and 'o' of the word 'welcome'</b>\n",
    "                </font>\n",
    "            </div>\n",
    "        </td>\n",
    "    </tr>\n",
    "</table>\n",
    "\n"
   ]
  },
  {
   "cell_type": "markdown",
   "metadata": {
    "id": "mTsZhnaw-KLu"
   },
   "source": [
    "<b>string = \"Hello, welcome to my world.\" </b>"
   ]
  },
  {
   "cell_type": "code",
   "execution_count": 77,
   "metadata": {
    "id": "_c6kpT93-KLv"
   },
   "outputs": [
    {
     "name": "stdout",
     "output_type": "stream",
     "text": [
      "Index of hello o : 4\n",
      "Index of welcome o : 11\n",
      "Value after adding two indexes :  t\n"
     ]
    }
   ],
   "source": [
    "string = \"Hello, welcome to my world.\"\n",
    "#print(\"Starting index of welcome : \",string.find('welcome'))\n",
    "index_hello_o=string.index('o',1,5)\n",
    "index_welcome_o=string.index('o',7,13)\n",
    "print(\"Index of hello o :\",index_hello_o)\n",
    "print(\"Index of welcome o :\",index_welcome_o)\n",
    "\n",
    "print(\"Value after adding two indexes : \",string[index_hello_o+index_welcome_o])\n",
    "\n"
   ]
  },
  {
   "cell_type": "markdown",
   "metadata": {
    "id": "YM7MzTsP-KLv"
   },
   "source": [
    "<table align=\"left\">\n",
    "    <tr>\n",
    "        <td width=\"6%\">\n",
    "            <img src=\"question_icon.png\">\n",
    "        </td>\n",
    "        <td>\n",
    "            <div align=\"left\", style=\"font-size:120%\">\n",
    "                <font color=\"#21618C\">\n",
    "                    <b> 1. Create a tuple with single value '5'</b>\n",
    "                </font>\n",
    "            </div>\n",
    "        </td>\n",
    "    </tr>\n",
    "</table>\n"
   ]
  },
  {
   "cell_type": "code",
   "execution_count": 4,
   "metadata": {
    "id": "8x4Wje0I-KLv"
   },
   "outputs": [
    {
     "name": "stdout",
     "output_type": "stream",
     "text": [
      "<class 'tuple'>\n",
      "(5,)\n"
     ]
    }
   ],
   "source": [
    "a = (5,)\n",
    "print(type(a))\n",
    "print(a)"
   ]
  },
  {
   "cell_type": "markdown",
   "metadata": {
    "id": "y7O2CXGx-KLw"
   },
   "source": [
    "<table align=\"left\">\n",
    "    <tr>\n",
    "        <td width=\"6%\">\n",
    "            <img src=\"question_icon.png\">\n",
    "        </td>\n",
    "        <td>\n",
    "            <div align=\"left\", style=\"font-size:120%\">\n",
    "                <font color=\"#21618C\">\n",
    "                    <b>2. Write a program that takes two dictionaries and concatenates them into one dictionary</b>\n",
    "                </font>\n",
    "            </div>\n",
    "        </td>\n",
    "    </tr>\n",
    "</table>\n"
   ]
  },
  {
   "cell_type": "markdown",
   "metadata": {
    "id": "QZDcb4Kk-KLw"
   },
   "source": [
    "**Use the below dictionaries:**\n",
    "\n",
    "dictionary_1 = {'A':1, 'B':2}<br>\n",
    "\n",
    "dictionary_2 = {'C':3}"
   ]
  },
  {
   "cell_type": "code",
   "execution_count": 20,
   "metadata": {
    "id": "dR2QJJB9-KLw"
   },
   "outputs": [
    {
     "name": "stdout",
     "output_type": "stream",
     "text": [
      "{'A': 1, 'B': 2, 'C': 3}\n"
     ]
    }
   ],
   "source": [
    "dictionary_1 = {'A':1, 'B':2}\n",
    "dictionary_2 = {'C':3}\n",
    "\n",
    "dictionary_1.update(dictionary_2)\n",
    "print(dictionary_1)"
   ]
  },
  {
   "cell_type": "markdown",
   "metadata": {
    "id": "DIIgeSqG-KLw"
   },
   "source": [
    "<table align=\"left\">\n",
    "    <tr>\n",
    "        <td width=\"6%\">\n",
    "            <img src=\"question_icon.png\">\n",
    "        </td>\n",
    "        <td>\n",
    "            <div align=\"left\", style=\"font-size:120%\">\n",
    "                <font color=\"#21618C\">\n",
    "                    <b>3. Check whether the set X and Y are disjoint or not </b>\n",
    "                </font>\n",
    "            </div>\n",
    "        </td>\n",
    "    </tr>\n",
    "</table>"
   ]
  },
  {
   "cell_type": "markdown",
   "metadata": {
    "id": "dkHzBA1W-KLx"
   },
   "source": [
    "**Use the sets below (or create your own sets):**\n",
    "\n",
    "#### Set X\n",
    "X = {4, 5, 11, 34, 4, 56, 44, 67, 67, 5, 12, 34, 16, 9, 22, 23, 56, 34, 33, 89, 78, 45, 33, 78, 34, 45, 12, 45, 56 }\n",
    "\n",
    "#### Set Y\n",
    "Y = {41, 52, 63, 56, 67, 45, 99, 56, 45, 23, 45, 63, 45, 56, 45, 55, 56, 56, 12, 86, 67, 55, 56, 34, 89}"
   ]
  },
  {
   "cell_type": "code",
   "execution_count": 61,
   "metadata": {
    "id": "j8fLz9x4-KLx"
   },
   "outputs": [
    {
     "data": {
      "text/plain": [
       "False"
      ]
     },
     "execution_count": 61,
     "metadata": {},
     "output_type": "execute_result"
    }
   ],
   "source": [
    "#Intersection -->Common values in both the sets\n",
    "#disjoint ---> Returns true if no values are common in both the sets\n",
    "# returns false if any one of the value is common in both the sets\n",
    "\n",
    "X = {4, 5, 11, 34, 4, 56, 44, 67, 67, 5, 12, 34, 16, 9, 22, 23, 56, 34, 33, 89, 78, 45, 33, 78, 34, 45, 12, 45, 56 }\n",
    "Y = {41, 52, 63, 56, 67, 45, 99, 56, 45, 23, 45, 63, 45, 56, 45, 55, 56, 56, 12, 86, 67, 55, 56, 34, 89}\n",
    "X.isdisjoint(Y)"
   ]
  },
  {
   "cell_type": "markdown",
   "metadata": {
    "id": "gQsYfk1K-KLx"
   },
   "source": [
    "<table align=\"left\">\n",
    "    <tr>\n",
    "        <td width=\"6%\">\n",
    "            <img src=\"question_icon.png\">\n",
    "        </td>\n",
    "        <td>\n",
    "            <div align=\"left\", style=\"font-size:120%\">\n",
    "                <font color=\"#21618C\">\n",
    "                    <b>4. Retrieve the third element in the given list</b>\n",
    "                </font>\n",
    "            </div>\n",
    "        </td>\n",
    "    </tr>\n",
    "</table>"
   ]
  },
  {
   "cell_type": "markdown",
   "metadata": {
    "id": "JxgeSP59-KLx"
   },
   "source": [
    "**Use the list given below:**\n",
    "    \n",
    "num_list = [5, 3, 6, 1, 85, 23, 5, 13]"
   ]
  },
  {
   "cell_type": "code",
   "execution_count": 55,
   "metadata": {
    "id": "7pB9C0SL-KLy"
   },
   "outputs": [
    {
     "name": "stdout",
     "output_type": "stream",
     "text": [
      "6\n"
     ]
    }
   ],
   "source": [
    "num_list = [5, 3, 6, 1, 85, 23, 5, 13]\n",
    "print(num_list[2])"
   ]
  },
  {
   "cell_type": "markdown",
   "metadata": {
    "id": "ZvM8EeiV-KLy"
   },
   "source": [
    "<table align=\"left\">\n",
    "    <tr>\n",
    "        <td width=\"6%\">\n",
    "            <img src=\"question_icon.png\">\n",
    "        </td>\n",
    "        <td>\n",
    "            <div align=\"left\", style=\"font-size:120%\">\n",
    "                <font color=\"#21618C\">\n",
    "                    <b>5. Count the occurance of number -6 in the given tuple</b>\n",
    "                </font>\n",
    "            </div>\n",
    "        </td>\n",
    "    </tr>\n",
    "</table>"
   ]
  },
  {
   "cell_type": "markdown",
   "metadata": {
    "id": "MNQpl_qd-KLy"
   },
   "source": [
    "**Use the tuple given below:**\n",
    "    \n",
    "num_tuple = (-4, 7, -8, -9, 8, -6, 7, 3, -6, 1, -8, -6) "
   ]
  },
  {
   "cell_type": "code",
   "execution_count": 38,
   "metadata": {
    "id": "RcjL_JwJ-KLy"
   },
   "outputs": [
    {
     "data": {
      "text/plain": [
       "3"
      ]
     },
     "execution_count": 38,
     "metadata": {},
     "output_type": "execute_result"
    }
   ],
   "source": [
    "num_tuple = (-4, 7, -8, -9, 8, -6, 7, 3, -6, 1, -8, -6)\n",
    "num_tuple.count(-6)"
   ]
  },
  {
   "cell_type": "markdown",
   "metadata": {
    "id": "ekHAbyCd-KLy"
   },
   "source": [
    "<table align=\"left\">\n",
    "    <tr>\n",
    "        <td width=\"6%\">\n",
    "            <img src=\"question_icon.png\">\n",
    "        </td>\n",
    "        <td>\n",
    "            <div align=\"left\", style=\"font-size:120%\">\n",
    "                <font color=\"#21618C\">\n",
    "                    <b> 6. Check whether the number 53 is in the given list or not</b>\n",
    "                </font>\n",
    "            </div>\n",
    "        </td>\n",
    "    </tr>\n",
    "</table>"
   ]
  },
  {
   "cell_type": "markdown",
   "metadata": {
    "id": "ZxaLhUOy-KLz"
   },
   "source": [
    "**Use the list given below:**\n",
    "    \n",
    "num_list = [5, 3, 6, 1, 85, 23, 5, 13]"
   ]
  },
  {
   "cell_type": "code",
   "execution_count": 40,
   "metadata": {
    "id": "vjR2fBN2-KLz"
   },
   "outputs": [
    {
     "data": {
      "text/plain": [
       "False"
      ]
     },
     "execution_count": 40,
     "metadata": {},
     "output_type": "execute_result"
    }
   ],
   "source": [
    "num_list = [5, 3, 6, 1, 85, 23, 5, 13]\n",
    "53 in num_list"
   ]
  },
  {
   "cell_type": "markdown",
   "metadata": {
    "id": "YcqGOpSH-KLz"
   },
   "source": [
    "<table align=\"left\">\n",
    "    <tr>\n",
    "        <td width=\"6%\">\n",
    "            <img src=\"question_icon.png\">\n",
    "        </td>\n",
    "        <td>\n",
    "            <div align=\"left\", style=\"font-size:120%\">\n",
    "                <font color=\"#21618C\">\n",
    "                    <b> 7. Remove number 3 from a given set </b>\n",
    "                </font>\n",
    "            </div>\n",
    "        </td>\n",
    "    </tr>\n",
    "</table>"
   ]
  },
  {
   "cell_type": "markdown",
   "metadata": {
    "id": "RdlUX3xG-KL0"
   },
   "source": [
    "**Use the set below:**\n",
    "\n",
    "numbers = {2, 3, 4, 5}"
   ]
  },
  {
   "cell_type": "code",
   "execution_count": 22,
   "metadata": {
    "id": "vol3cMAu-KL0"
   },
   "outputs": [
    {
     "name": "stdout",
     "output_type": "stream",
     "text": [
      "Original List :  {2, 3, 4, 5}\n",
      "Updated list :  {2, 4, 5}\n"
     ]
    }
   ],
   "source": [
    "numbers = {2, 3, 4, 5}\n",
    "print(\"Original List : \",numbers)\n",
    "numbers.remove(3)\n",
    "print(\"Updated list : \",numbers)"
   ]
  },
  {
   "cell_type": "markdown",
   "metadata": {
    "id": "l5Wk299T-KL1"
   },
   "source": [
    "<table align=\"left\">\n",
    "    <tr>\n",
    "        <td width=\"6%\">\n",
    "            <img src=\"question_icon.png\">\n",
    "        </td>\n",
    "        <td>\n",
    "            <div align=\"left\", style=\"font-size:120%\">\n",
    "                <font color=\"#21618C\">\n",
    "                    <b>8. Write a program to convert a list into tuple  </b>\n",
    "                </font>\n",
    "            </div>\n",
    "        </td>\n",
    "    </tr>\n",
    "</table>"
   ]
  },
  {
   "cell_type": "markdown",
   "metadata": {
    "id": "646FTkKF-KL1"
   },
   "source": [
    "**Use the list below:**\n",
    "\n",
    "num_list = [24, 18, 24, 47, 52]"
   ]
  },
  {
   "cell_type": "code",
   "execution_count": 62,
   "metadata": {
    "id": "X3NWMaic-KL1"
   },
   "outputs": [
    {
     "name": "stdout",
     "output_type": "stream",
     "text": [
      "(24, 18, 24, 47, 52)\n"
     ]
    }
   ],
   "source": [
    "num_list = [24, 18, 24, 47, 52]\n",
    "num_list = tuple(num_list)\n",
    "print(num_list)"
   ]
  },
  {
   "cell_type": "markdown",
   "metadata": {
    "id": "b3JwZd_8-KL2"
   },
   "source": [
    "<table align=\"left\">\n",
    "    <tr>\n",
    "        <td width=\"6%\">\n",
    "            <img src=\"question_icon.png\">\n",
    "        </td>\n",
    "        <td>\n",
    "            <div align=\"left\", style=\"font-size:120%\">\n",
    "                <font color=\"#21618C\">\n",
    "                    <b>9. Write a program to retrieve the capital of 'Germany' from a given dictionary</b>\n",
    "                </font>\n",
    "            </div>\n",
    "        </td>\n",
    "    </tr>\n",
    "</table>\n"
   ]
  },
  {
   "cell_type": "markdown",
   "metadata": {
    "id": "97LUoqQS-KL2"
   },
   "source": [
    "**Use the dictionary given below:**\n",
    "\n",
    "europe = { 'Spain': { 'Capital':'Madrid', 'Population':4.77 },\n",
    "           'France': { 'Capital':'Paris', 'Population':6.7 },\n",
    "           'Germany': { 'Capital':'Berlin', 'Population':8.28 },\n",
    "           'Norway': { 'Capital':'Oslo', 'Population':0.533 } }"
   ]
  },
  {
   "cell_type": "code",
   "execution_count": 51,
   "metadata": {
    "id": "AGALa__Z-KL2"
   },
   "outputs": [
    {
     "name": "stdout",
     "output_type": "stream",
     "text": [
      "Capital of Germany is  Berlin\n"
     ]
    }
   ],
   "source": [
    "europe = { 'Spain': { 'Capital':'Madrid', 'Population':4.77 }, 'France': { 'Capital':'Paris', 'Population':6.7 }, 'Germany': { 'Capital':'Berlin', 'Population':8.28 }, 'Norway': { 'Capital':'Oslo', 'Population':0.533 } }\n",
    "print(\"Capital of Germany is \",europe.get('Germany').get('Capital'))"
   ]
  },
  {
   "cell_type": "markdown",
   "metadata": {
    "id": "lFSioxzW-KL2"
   },
   "source": [
    "<table align=\"left\">\n",
    "    <tr>\n",
    "        <td width=\"6%\">\n",
    "            <img src=\"question_icon.png\">\n",
    "        </td>\n",
    "        <td>\n",
    "            <div align=\"left\", style=\"font-size:120%\">\n",
    "                <font color=\"#21618C\">\n",
    "                    <b>10. Find maximum and the minimum value from a given set </b>\n",
    "                </font>\n",
    "            </div>\n",
    "        </td>\n",
    "    </tr>\n",
    "</table>\n",
    "\n"
   ]
  },
  {
   "cell_type": "markdown",
   "metadata": {
    "id": "MMeXEhC1-KL2"
   },
   "source": [
    "**Use the elements:**\n",
    "    \n",
    "5, 10, 3, 15, 2, 20, 10, 5, 4, 3"
   ]
  },
  {
   "cell_type": "code",
   "execution_count": 54,
   "metadata": {
    "id": "ZNVszgoc-KL3"
   },
   "outputs": [
    {
     "name": "stdout",
     "output_type": "stream",
     "text": [
      "<class 'set'>\n",
      "Min of the set:  2\n",
      "Max of the set: 20\n"
     ]
    }
   ],
   "source": [
    "a = {5, 10, 3, 15, 2, 20, 10, 5, 4, 3}\n",
    "print(type(a))\n",
    "print(\"Min of the set: \",min(a))\n",
    "print(\"Max of the set:\",max(a))"
   ]
  },
  {
   "cell_type": "markdown",
   "metadata": {
    "id": "vzhSRhav-KL3"
   },
   "source": [
    "<table align=\"left\">\n",
    "    <tr>\n",
    "        <td width=\"6%\">\n",
    "            <img src=\"question_icon.png\">\n",
    "        </td>\n",
    "        <td>\n",
    "            <div align=\"left\", style=\"font-size:120%\">\n",
    "                <font color=\"#21618C\">\n",
    "                    <b>11. Write a program to check whether two strings are anagram or not (take input from user)</b>\n",
    "                 </font>\n",
    "            </div>\n",
    "        </td>\n",
    "    </tr>\n",
    "</table>"
   ]
  },
  {
   "cell_type": "markdown",
   "metadata": {
    "id": "3jFtaA53-KL3"
   },
   "source": [
    "**Hint: An anagram of a string is another string that contains same characters, only the order of characters can be different.**"
   ]
  },
  {
   "cell_type": "code",
   "execution_count": 81,
   "metadata": {
    "id": "WqqjmBwF-KL3"
   },
   "outputs": [
    {
     "name": "stdout",
     "output_type": "stream",
     "text": [
      "Enter the string1 : hareesh\n",
      "Enter the string2: harees\n",
      "The Given strings are not anagrams\n"
     ]
    }
   ],
   "source": [
    "input_1 = input(\"Enter the string1 : \")\n",
    "input_2 = input(\"Enter the string2: \")\n",
    "\n",
    "if sorted(input_1) == sorted(input_2):\n",
    "    print(\"The Given strings are anagrams\")\n",
    "else:\n",
    "    print(\"The Given strings are not anagrams\")"
   ]
  }
 ],
 "metadata": {
  "colab": {
   "collapsed_sections": [],
   "name": "Python - Take Home (Week 2) - Questions  .ipynb",
   "provenance": []
  },
  "kernelspec": {
   "display_name": "Python 3",
   "language": "python",
   "name": "python3"
  },
  "language_info": {
   "codemirror_mode": {
    "name": "ipython",
    "version": 3
   },
   "file_extension": ".py",
   "mimetype": "text/x-python",
   "name": "python",
   "nbconvert_exporter": "python",
   "pygments_lexer": "ipython3",
   "version": "3.8.5"
  }
 },
 "nbformat": 4,
 "nbformat_minor": 1
}
