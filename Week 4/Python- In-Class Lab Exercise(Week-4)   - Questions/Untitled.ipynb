{
 "cells": [
  {
   "cell_type": "code",
   "execution_count": 11,
   "metadata": {},
   "outputs": [
    {
     "name": "stdout",
     "output_type": "stream",
     "text": [
      "{'a': 10, 'b': 20, 'c': 30, 'd': 40}\n"
     ]
    }
   ],
   "source": [
    "values = [10,20,30,40]\n",
    "keys = ['a','b','c','d']\n",
    "\n",
    "dict1 = dict(map(lambda x,y : (x,y),keys,values))\n",
    "print(dict1)"
   ]
  },
  {
   "cell_type": "code",
   "execution_count": 48,
   "metadata": {},
   "outputs": [],
   "source": [
    "l1 = [1,2,3,4]\n",
    "l2 = [10,20,30,40]\n",
    "l3= [100,200,300,400]\n",
    "\n",
    "# list(map(lambda l1,l2,l3 : (l1*2,l2*2,l3*2),x,y,z))\n",
    "#l5 = []\n",
    "#list(map(lambda l1 : (l1*2),x)),list(map(lambda l2 : (l2*2),y)),list(map(lambda l3 : l3*2,z))\n"
   ]
  },
  {
   "cell_type": "code",
   "execution_count": 52,
   "metadata": {},
   "outputs": [
    {
     "data": {
      "text/plain": [
       "[[2, 4, 6, 8], [20, 40, 60, 80], [200, 400, 600, 800]]"
      ]
     },
     "execution_count": 52,
     "metadata": {},
     "output_type": "execute_result"
    }
   ],
   "source": [
    "list(map(lambda l : list(map(lambda x : x*2,l)) ,(l1,l2,l3)))"
   ]
  },
  {
   "cell_type": "code",
   "execution_count": 54,
   "metadata": {},
   "outputs": [
    {
     "data": {
      "text/plain": [
       "[44.44,\n",
       " 51.11,\n",
       " 75.56,\n",
       " 100.0,\n",
       " 73.33,\n",
       " 22.22,\n",
       " 95.56,\n",
       " 51.11,\n",
       " 60.0,\n",
       " 75.56,\n",
       " 82.22,\n",
       " 97.78,\n",
       " 93.33,\n",
       " 95.56]"
      ]
     },
     "execution_count": 54,
     "metadata": {},
     "output_type": "execute_result"
    }
   ],
   "source": [
    "# Total marks = 45, calculate percentage.\n",
    "marks = [ 20, 23, 34, 45, 33, 10, 43, 23, 27, 34, 37, 44, 42, 43 ]\n",
    "\n",
    "list(map(lambda x : round((x/45) * 100,2),marks))"
   ]
  },
  {
   "cell_type": "code",
   "execution_count": null,
   "metadata": {},
   "outputs": [],
   "source": []
  }
 ],
 "metadata": {
  "kernelspec": {
   "display_name": "Python 3",
   "language": "python",
   "name": "python3"
  },
  "language_info": {
   "codemirror_mode": {
    "name": "ipython",
    "version": 3
   },
   "file_extension": ".py",
   "mimetype": "text/x-python",
   "name": "python",
   "nbconvert_exporter": "python",
   "pygments_lexer": "ipython3",
   "version": "3.8.5"
  }
 },
 "nbformat": 4,
 "nbformat_minor": 4
}
