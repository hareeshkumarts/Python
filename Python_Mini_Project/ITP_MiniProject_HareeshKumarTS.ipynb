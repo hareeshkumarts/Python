{
 "cells": [
  {
   "cell_type": "markdown",
   "metadata": {},
   "source": [
    "# ITP MiniProject - HAREESH KUMAR TS"
   ]
  },
  {
   "cell_type": "markdown",
   "metadata": {},
   "source": [
    "# Courier Management System"
   ]
  },
  {
   "cell_type": "markdown",
   "metadata": {},
   "source": [
    " For a seamless eCommerce shopping experience, it is essential to deliver the product promptly to the customer. And that’s where a professional courier service plays a vital role. 'FastTrack' courier company stores the relevant data of its \n",
    "clients and parcels in the form of dictionary. Create a dictionary for storing shipment information in key-value pairs. Shipment id is used as a key and list of other attributes like sender, receiver, start date, Delivery Date, Sender_location, Receiver_location, Delivery status, Shipping cost is associated with shipment id. Use the data shown in the table below."
   ]
  },
  {
   "cell_type": "code",
   "execution_count": 15,
   "metadata": {},
   "outputs": [],
   "source": [
    "# Creating a dictionary to store shipment details\n",
    "shipments_det = {}"
   ]
  },
  {
   "cell_type": "code",
   "execution_count": 16,
   "metadata": {},
   "outputs": [
    {
     "data": {
      "text/plain": [
       "dict"
      ]
     },
     "execution_count": 16,
     "metadata": {},
     "output_type": "execute_result"
    }
   ],
   "source": [
    "type(shipments_det)"
   ]
  },
  {
   "cell_type": "markdown",
   "metadata": {},
   "source": [
    "# Q1) Create a Dictionary of lists to store the information of shipments given in the table"
   ]
  },
  {
   "cell_type": "code",
   "execution_count": 17,
   "metadata": {},
   "outputs": [],
   "source": [
    "shipments_det.update({101 : [1,3,'14-03-2020','25-03-2020','Area1','Area6','Delivered',198],102 : [4,1,'18-06-2020','09-07-2020',\n",
    "'Area2','Area4','Delivered',275],103:[2,3,'01-12-2020',None,'Area5','Area1','In-Transit',200],104:[1,5,'23-06-2020','25-06-2020','Area1','Area4','Delivered',314],\n",
    "                     105:[3,4,'29-08-2020','10-09-2020','Area5','Area3','Delivered',275],106:[5,2,'28-06-2020',None,'Area3','Area1','In-Transit',270]})"
   ]
  },
  {
   "cell_type": "code",
   "execution_count": 19,
   "metadata": {},
   "outputs": [
    {
     "data": {
      "text/plain": [
       "{101: [1, 3, '14-03-2020', '25-03-2020', 'Area1', 'Area6', 'Delivered', 198],\n",
       " 102: [4, 1, '18-06-2020', '09-07-2020', 'Area2', 'Area4', 'Delivered', 275],\n",
       " 103: [2, 3, '01-12-2020', None, 'Area5', 'Area1', 'In-Transit', 200],\n",
       " 104: [1, 5, '23-06-2020', '25-06-2020', 'Area1', 'Area4', 'Delivered', 314],\n",
       " 105: [3, 4, '29-08-2020', '10-09-2020', 'Area5', 'Area3', 'Delivered', 275],\n",
       " 106: [5, 2, '28-06-2020', None, 'Area3', 'Area1', 'In-Transit', 270]}"
      ]
     },
     "execution_count": 19,
     "metadata": {},
     "output_type": "execute_result"
    }
   ],
   "source": [
    "shipments_det"
   ]
  },
  {
   "cell_type": "markdown",
   "metadata": {},
   "source": [
    "# Q2. Create a Dictionary of to store the information of clients given in the table."
   ]
  },
  {
   "cell_type": "code",
   "execution_count": 20,
   "metadata": {},
   "outputs": [],
   "source": [
    "clients_det = {1:'Philip',2:'Omega III',3 : 'Ramya',4:'Romesh',5:'John'}"
   ]
  },
  {
   "cell_type": "code",
   "execution_count": 21,
   "metadata": {},
   "outputs": [
    {
     "name": "stdout",
     "output_type": "stream",
     "text": [
      "{1: 'Philip', 2: 'Omega III', 3: 'Ramya', 4: 'Romesh', 5: 'John'}\n"
     ]
    }
   ],
   "source": [
    "print(clients_det)"
   ]
  },
  {
   "cell_type": "markdown",
   "metadata": {},
   "source": [
    "# Q3. Write a code to replace client’s id with their respective name in shipment dictionary using a loop "
   ]
  },
  {
   "cell_type": "code",
   "execution_count": 7,
   "metadata": {},
   "outputs": [],
   "source": [
    "for i,j in shipments_det.items():\n",
    "    for k in range(0,2):\n",
    "        if shipments_det[i][k] == 1:\n",
    "            shipments_det[i][k] = 'Philip'\n",
    "        elif shipments_det[i][k] == 2:\n",
    "            shipments_det[i][k] = 'Omega III'\n",
    "        elif shipments_det[i][k] == 3:\n",
    "            shipments_det[i][k] = 'Ramya'\n",
    "        elif shipments_det[i][k] == 4:\n",
    "             shipments_det[i][k] = 'Romesh'\n",
    "        elif shipments_det[i][k] == 5:\n",
    "            shipments_det[i][k] = 'John'"
   ]
  },
  {
   "cell_type": "code",
   "execution_count": 8,
   "metadata": {},
   "outputs": [
    {
     "name": "stdout",
     "output_type": "stream",
     "text": [
      "{101: ['Philip', 'Ramya', '14-03-2020', '25-03-2020', 'Area1', 'Area6', 'Delivered', 198], 102: ['Romesh', 'Philip', '18-06-2020', '09-07-2020', 'Area2', 'Area4', 'Delivered', 275], 103: ['Omega III', 'Ramya', '01-12-2020', None, 'Area5', 'Area1', 'In-Transit', 200], 104: ['Philip', 'John', '23-06-2020', '25-06-2020', 'Area1', 'Area4', 'Delivered', 314], 105: ['Ramya', 'Romesh', '29-08-2020', '10-09-2020', 'Area5', 'Area3', 'Delivered', 275], 106: ['John', 'Omega III', '28-06-2020', None, 'Area3', 'Area1', 'In-Transit', 270]}\n"
     ]
    }
   ],
   "source": [
    "print(shipments_det)"
   ]
  },
  {
   "cell_type": "markdown",
   "metadata": {},
   "source": [
    "# Q4. Print all shipment details that are sent by Phillip"
   ]
  },
  {
   "cell_type": "code",
   "execution_count": 10,
   "metadata": {},
   "outputs": [
    {
     "name": "stdout",
     "output_type": "stream",
     "text": [
      "101 ['Philip', 'Ramya', '14-03-2020', '25-03-2020', 'Area1', 'Area6', 'Delivered', 198]\n",
      "104 ['Philip', 'John', '23-06-2020', '25-06-2020', 'Area1', 'Area4', 'Delivered', 314]\n"
     ]
    }
   ],
   "source": [
    "for i,j in zip(shipments_det.keys(),shipments_det.values()):\n",
    "    if shipments_det[i][0] == 'Philip':\n",
    "        print(i,j)"
   ]
  },
  {
   "cell_type": "markdown",
   "metadata": {},
   "source": [
    "# Q5. Print all shipment details that are received by Ramya"
   ]
  },
  {
   "cell_type": "code",
   "execution_count": 11,
   "metadata": {},
   "outputs": [
    {
     "name": "stdout",
     "output_type": "stream",
     "text": [
      "101 ['Philip', 'Ramya', '14-03-2020', '25-03-2020', 'Area1', 'Area6', 'Delivered', 198]\n",
      "103 ['Omega III', 'Ramya', '01-12-2020', None, 'Area5', 'Area1', 'In-Transit', 200]\n"
     ]
    }
   ],
   "source": [
    "for i,j in zip(shipments_det.keys(),shipments_det.values()):\n",
    "    if shipments_det[i][1] == 'Ramya':\n",
    "        print(i,j)"
   ]
  },
  {
   "cell_type": "markdown",
   "metadata": {},
   "source": [
    "# Q6)Print all shipments which are in 'In-Transit' status"
   ]
  },
  {
   "cell_type": "code",
   "execution_count": 12,
   "metadata": {},
   "outputs": [
    {
     "name": "stdout",
     "output_type": "stream",
     "text": [
      "103 ['Omega III', 'Ramya', '01-12-2020', None, 'Area5', 'Area1', 'In-Transit', 200]\n",
      "106 ['John', 'Omega III', '28-06-2020', None, 'Area3', 'Area1', 'In-Transit', 270]\n"
     ]
    }
   ],
   "source": [
    "for i,j in zip(shipments_det.keys(),shipments_det.values()):\n",
    "    if shipments_det[i][6] == 'In-Transit':\n",
    "        print(i,j)"
   ]
  },
  {
   "cell_type": "markdown",
   "metadata": {},
   "source": [
    "# Q7)Print all shipments which are delivered within 7 days of courier Start date"
   ]
  },
  {
   "cell_type": "code",
   "execution_count": 13,
   "metadata": {},
   "outputs": [
    {
     "name": "stdout",
     "output_type": "stream",
     "text": [
      "104 ['Philip', 'John', '23-06-2020', '25-06-2020', 'Area1', 'Area4', 'Delivered', 314]\n"
     ]
    }
   ],
   "source": [
    "import datetime\n",
    "\n",
    "for i,j in zip(shipments_det.keys(),shipments_det.values()):\n",
    "    if shipments_det[i][3] != None:\n",
    "        if datetime.datetime.strptime(shipments_det[i][3], '%d-%m-%Y') <=datetime.datetime.strptime(shipments_det[i][2], '%d-%m-%Y') + datetime.timedelta(days=7):\n",
    "            print(i,j)"
   ]
  },
  {
   "cell_type": "markdown",
   "metadata": {},
   "source": [
    "# Q8. Print all shipments which are delivered after 15 days of courier start date or not yet been delivered."
   ]
  },
  {
   "cell_type": "code",
   "execution_count": 14,
   "metadata": {},
   "outputs": [
    {
     "name": "stdout",
     "output_type": "stream",
     "text": [
      "102 ['Romesh', 'Philip', '18-06-2020', '09-07-2020', 'Area2', 'Area4', 'Delivered', 275]\n",
      "103 ['Omega III', 'Ramya', '01-12-2020', None, 'Area5', 'Area1', 'In-Transit', 200]\n",
      "106 ['John', 'Omega III', '28-06-2020', None, 'Area3', 'Area1', 'In-Transit', 270]\n"
     ]
    }
   ],
   "source": [
    "import datetime\n",
    "\n",
    "for i,j in zip(shipments_det.keys(),shipments_det.values()):\n",
    "    if shipments_det[i][3] != None:\n",
    "        if datetime.datetime.strptime(shipments_det[i][3], '%d-%m-%Y') > datetime.datetime.strptime(shipments_det[i][2], '%d-%m-%Y') + datetime.timedelta(days=15):\n",
    "            print(i,j)\n",
    "    elif shipments_det[i][3] == None:\n",
    "        print(i,j)\n"
   ]
  },
  {
   "cell_type": "markdown",
   "metadata": {},
   "source": [
    "# Q 9. Write a function find_all_routes to display all possible routes from senders location to receivers location given in the dictionary for each shipment.¶"
   ]
  },
  {
   "cell_type": "markdown",
   "metadata": {},
   "source": [
    "# Graph Data Structure"
   ]
  },
  {
   "cell_type": "code",
   "execution_count": 64,
   "metadata": {},
   "outputs": [],
   "source": [
    "mydict_matrix={1:[2,6],2:[1,3,4],3:[2,4],4:[2,3,5],5:[4],6:[1]}\n",
    "def find_all_routes(mydict,A1,A2,route=[]):\n",
    "    route = route+[A1]\n",
    "    if A1 == A2:\n",
    "        return[route]\n",
    "    if A1 not in mydict.keys():\n",
    "        return['Invalid Input']\n",
    "    routes=[]\n",
    "    for i in mydict[A1]:\n",
    "        if i not in route:\n",
    "            new_routes = find_all_routes(mydict,i,A2,route)\n",
    "            for j in new_routes:\n",
    "                routes.append(j)\n",
    "    return routes"
   ]
  },
  {
   "cell_type": "code",
   "execution_count": 65,
   "metadata": {},
   "outputs": [
    {
     "name": "stdout",
     "output_type": "stream",
     "text": [
      "Possible route for Shipment with ID : 101 are [[1, 6]]\n"
     ]
    }
   ],
   "source": [
    "possible_routes_101 = find_all_routes(mydict_matrix,1,6)\n",
    "print('Possible route for Shipment with ID : 101 are {0}'.format(possible_routes_101))"
   ]
  },
  {
   "cell_type": "code",
   "execution_count": 66,
   "metadata": {},
   "outputs": [
    {
     "name": "stdout",
     "output_type": "stream",
     "text": [
      "Possible route for Shipment with ID : 102 are [[2, 3, 4], [2, 4]]\n"
     ]
    }
   ],
   "source": [
    "possible_routes_102 = find_all_routes(mydict_matrix,2,4)\n",
    "print('Possible route for Shipment with ID : 102 are {0}'.format(possible_routes_102))"
   ]
  },
  {
   "cell_type": "code",
   "execution_count": 57,
   "metadata": {},
   "outputs": [
    {
     "name": "stdout",
     "output_type": "stream",
     "text": [
      "Possible route for Shipment with ID : 103 are [[5, 4, 2, 1], [5, 4, 3, 2, 1]]\n"
     ]
    }
   ],
   "source": [
    "possible_routes_103 = find_all_routes(mydict_matrix,5,1)\n",
    "print('Possible route for Shipment with ID : 103 are {0}'.format(possible_routes_103))"
   ]
  },
  {
   "cell_type": "code",
   "execution_count": 58,
   "metadata": {},
   "outputs": [
    {
     "name": "stdout",
     "output_type": "stream",
     "text": [
      "Possible route for Shipment with ID : 104 are [[5, 4, 2, 3], [5, 4, 3]]\n"
     ]
    }
   ],
   "source": [
    "possible_routes_104 = find_all_routes(mydict_matrix,5,3)\n",
    "print('Possible route for Shipment with ID : 104 are {0}'.format(possible_routes_104))"
   ]
  },
  {
   "cell_type": "code",
   "execution_count": 59,
   "metadata": {},
   "outputs": [
    {
     "name": "stdout",
     "output_type": "stream",
     "text": [
      "Possible route for Shipment with ID : 105 are [[3, 2, 1], [3, 4, 2, 1]]\n"
     ]
    }
   ],
   "source": [
    "possible_routes_105 = find_all_routes(mydict_matrix,3,1)\n",
    "print('Possible route for Shipment with ID : 105 are {0}'.format(possible_routes_105))"
   ]
  }
 ],
 "metadata": {
  "kernelspec": {
   "display_name": "Python 3",
   "language": "python",
   "name": "python3"
  },
  "language_info": {
   "codemirror_mode": {
    "name": "ipython",
    "version": 3
   },
   "file_extension": ".py",
   "mimetype": "text/x-python",
   "name": "python",
   "nbconvert_exporter": "python",
   "pygments_lexer": "ipython3",
   "version": "3.8.5"
  }
 },
 "nbformat": 4,
 "nbformat_minor": 4
}
